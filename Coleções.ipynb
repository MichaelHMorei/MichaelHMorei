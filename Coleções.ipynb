{
  "cells": [
    {
      "cell_type": "markdown",
      "metadata": {
        "id": "view-in-github",
        "colab_type": "text"
      },
      "source": [
        "<a href=\"https://colab.research.google.com/github/MichaelHMorei/MichaelHMorei/blob/main/Cole%C3%A7%C3%B5es.ipynb\" target=\"_parent\"><img src=\"https://colab.research.google.com/assets/colab-badge.svg\" alt=\"Open In Colab\"/></a>"
      ]
    },
    {
      "cell_type": "code",
      "source": [
        "# * Lista * é composta por indice e valor, podendo ser composta por int,float,string etc..\n",
        "# Cada valor inserido na lista tem um indice.\n",
        "# Outra característica das listas no Python é que elas são mutáveis, podendo trocar os valores depois de criada.\n",
        "# Em outras palavras, podemos adicionar, remover e até mesmo alterar os itens de uma lista.\n",
        "\n",
        "# Criando uma Lista\n",
        "Lista1=['Laura','Jessica','Michael']\n",
        "\n",
        "# Adicionando valores na Lista - função append()\n",
        "Lista1.append('Claudia')\n",
        "Lista1.append('Roberson')\n",
        "Lista1.append('Bianca')\n",
        "\n",
        "# Verificando o tipo\n",
        "print(type(Lista1))\n",
        "\n",
        "# Verificando o tamanho da lista\n",
        "print(len(Lista1))\n",
        "\n",
        "# Mostrando os valores da Lista\n",
        "print(\"Lista:\",Lista1)\n",
        "\n",
        "# Adicionando/Trocando os valores de posição.\n",
        "Lista1[0] = ('Jessica')\n",
        "Lista1[1] = ('Laura')\n",
        "\n",
        "# Mostrando a Lista\n",
        "print(\"Lista com valores em outra posição:\", Lista1)\n",
        "\n",
        "# Adicionando valores na Lista - função insert()\n",
        "#Esta função espera receber dois parametros 1= Indice , 2= Valor.\n",
        "Lista1.insert(0,'Insert_Indice_0')\n",
        "\n",
        "# Mostrando a Lista\n",
        "print(\"Lista Insert:\", Lista1)\n",
        "\n",
        "# Métodos para remover valores da lista: \n",
        "# remove() remoção pelo valor informado no parâmetro.\n",
        "# pop() para remoção pelo índice do elemento na lista.\n",
        "\n",
        "Lista1.remove('Insert_Indice_0')\n",
        "print(\"Lista Remove():\", Lista1)\n",
        "\n",
        "Lista1.pop(5)\n",
        "print(\"Lista pop():\", Lista1)\n"
      ],
      "metadata": {
        "colab": {
          "base_uri": "https://localhost:8080/"
        },
        "id": "futu6ialnZdm",
        "outputId": "99068e0b-ab0a-4621-ad03-68f4b9ae5188"
      },
      "execution_count": 30,
      "outputs": [
        {
          "output_type": "stream",
          "name": "stdout",
          "text": [
            "<class 'list'>\n",
            "6\n",
            "Lista: ['Laura', 'Jessica', 'Michael', 'Claudia', 'Roberson', 'Bianca']\n",
            "Lista com valores em outra posição: ['Jessica', 'Laura', 'Michael', 'Claudia', 'Roberson', 'Bianca']\n",
            "Lista Insert: ['Insert_Indice_0', 'Jessica', 'Laura', 'Michael', 'Claudia', 'Roberson', 'Bianca']\n",
            "Lista Remove(): ['Jessica', 'Laura', 'Michael', 'Claudia', 'Roberson', 'Bianca']\n",
            "Lista pop(): ['Jessica', 'Laura', 'Michael', 'Claudia', 'Roberson']\n"
          ]
        }
      ]
    },
    {
      "cell_type": "code",
      "source": [
        "# * Tuplas *\n",
        "# Tupla é uma estrutura de dados semelhante a lista.\n",
        "# Porém, ela tem a característica de ser imutável, ou seja, após uma tupla ser criada, ela não pode ser alterada.\n",
        "\n",
        "# Criando uma tupla\n",
        "Tupla1 = ('Cruzeiro','Atletico','America','Ipatinga')\n",
        "\n",
        "print(\"Tipo Tupla1 :\", type(Tupla1))\n",
        "print(\"Tamanho da Tupla :\", len(Tupla1))\n",
        "print(\"Itens da Tupla :\", Tupla1)\n",
        "print(\"Valor da posição[0] :\", Tupla1[0])\n",
        "\n",
        "# Criando tupla com 1 valor. \n",
        "# E necessario inserir ',' no final do valor para não virar uma string.\n",
        "Tupla2 = ('Valor1',)\n",
        "\n",
        "print(\"Tipo Tupla2 :\", type(Tupla2))\n",
        "print(\"Item da Tupla :\", Tupla2)\n",
        "print(\"Valor posição\")\n",
        "\n",
        "# As tuplas devem ser usadas em situações em que não haverá necessidade de adicionar,\n",
        "# remover ou alterar elementos de um grupo de itens. Exemplos bons seriam os meses do ano, os dias da semana, as estações do ano etc.\n",
        "# Nesses casos, não haverá mudança nesses itens (pelo menos isso é muito improvável)."
      ],
      "metadata": {
        "colab": {
          "base_uri": "https://localhost:8080/"
        },
        "id": "kNR9YKPRoWOy",
        "outputId": "add62327-b05f-4db6-bffe-3f83cd29f759"
      },
      "execution_count": 41,
      "outputs": [
        {
          "output_type": "stream",
          "name": "stdout",
          "text": [
            "Tipo Tupla1 : <class 'tuple'>\n",
            "Tamanho da Tupla : 4\n",
            "Itens da Tupla : ('Cruzeiro', 'Atletico', 'America', 'Ipatinga')\n",
            "Valor da posição[0] : Cruzeiro\n",
            "Tipo Tupla2 : <class 'tuple'>\n",
            "Item da Tupla : ('Valor1',)\n"
          ]
        }
      ]
    },
    {
      "cell_type": "code",
      "source": [
        "# * Dicionario *\n",
        "# Os dicionários representam coleções de dados que contém na sua estrutura um conjunto de pares chave/valor, nos quais cada chave individual tem um valor associado.\n",
        "# Nas 'listas' e 'tuplas' acessamos os dados por meio dos índices. Já nos dicionários, o acesso aos dados é feito por meio da chave associada a eles.\n",
        "\n",
        "# Criando Dicionario\n",
        "dados_Cliente = {\n",
        "      'Nome': 'Michael Moreira',\n",
        "      'Endereço': 'Alfenas,270,Resplendor',\n",
        "      'Telefone': '031-99584-0000'   \n",
        "}\n",
        "\n",
        "# Acessando os dados do Dicionairo > dados_Cliente:\n",
        "print(\"Nome:\",dados_Cliente['Nome'],\n",
        "      \"\\nEndereço:\", dados_Cliente['Endereço'],\n",
        "      \"\\nTelefone:\", dados_Cliente['Telefone'])\n",
        "\n",
        "print(\"\\n\")\n",
        "\n",
        "# Adicionando valores no dicionario.\n",
        "# Associar uma nova chave ao objeto(dados_Cliente) e dar um valor a ser associado a ela.\n",
        "dados_Cliente['Idade']= 30\n",
        "\n",
        "# Acessando os dados do Dicionairo > dados_Cliente:\n",
        "print(\"Dicionario com nova Chave inserida:\")\n",
        "print(\"Nome:\",dados_Cliente['Nome'],\n",
        "      \"\\nEndereço:\", dados_Cliente['Endereço'],\n",
        "      \"\\nTelefone:\", dados_Cliente['Telefone'],\n",
        "      \"\\nIdade:\", dados_Cliente['Idade'])\n",
        "\n",
        "# Para remover um item do dicionário, podemos usar o método pop().\n",
        "dados_Cliente.pop('Nome', None)\n",
        "# Temos na chamada do método o parâmetro None, que é passado depois da chave a ser removida.\n",
        "# O None serve para que a mensagem de erro KeyError não apareça devido a remoção de uma chave inexistente.\n",
        "\n",
        "#Mostrando os valores do dicionario sem a chave > Nome.\n",
        "print(\"Removendo com a função pop()\", dados_Cliente)\n",
        "\n",
        "# Também poderíamos usar a palavra-chave del, que remove uma chave e o valor associado a ela no dicionário.\n",
        "# Isso se faz por meio da passagem no parâmetro.\n",
        "del dados_Cliente['Telefone']\n",
        "\n",
        "#Mostrando os valores do dicionario sem a chave > Telefone.\n",
        "print(\"Removendo com a dunção del\", dados_Cliente)\n"
      ],
      "metadata": {
        "colab": {
          "base_uri": "https://localhost:8080/"
        },
        "id": "37KJgQGtwyQ9",
        "outputId": "95c9a793-dd56-4448-8cfa-88d99f52a942"
      },
      "execution_count": 72,
      "outputs": [
        {
          "output_type": "stream",
          "name": "stdout",
          "text": [
            "Nome: Michael Moreira \n",
            "Endereço: Alfenas,270,Resplendor \n",
            "Telefone: 031-99584-0000\n",
            "\n",
            "\n",
            "Dicionario com nova Chave inserida:\n",
            "Nome: Michael Moreira \n",
            "Endereço: Alfenas,270,Resplendor \n",
            "Telefone: 031-99584-0000 \n",
            "Idade: 30\n",
            "{'Endereço': 'Alfenas,270,Resplendor', 'Telefone': '031-99584-0000', 'Idade': 30}\n",
            "{'Endereço': 'Alfenas,270,Resplendor', 'Idade': 30}\n"
          ]
        }
      ]
    },
    {
      "cell_type": "code",
      "source": [
        "# Funções para coleções #\n",
        "# funções min() e max()\n",
        "\n",
        "ListaNumero = ['1','2','3','4','5','6']\n",
        "ListaNomes = ['Caio', 'Alex', 'Renata', 'Patrícia', 'Bruno']\n",
        "\n",
        "#Mostrando os valores das Listas\n",
        "print(ListaNumero)\n",
        "print(ListaNomes)\n",
        "\n",
        "#Obtendo o valor maximo da Lista\n",
        "print(max(ListaNumero))\n",
        "#Obtendo o valor minimo da Lista\n",
        "print(min(ListaNumero))\n",
        "\n",
        "# A segunda lista contém strings, o que faz com que as funções trabalhem com comparações alfabéticas.\n",
        "# Portanto, nesse exemplo o menor valor é Alexe o maior Renata\n",
        "\n",
        "#Obtendo o valor maximo da Lista\n",
        "print(max(ListaNomes))\n",
        "#Obtendo o valor minimo da Lista\n",
        "print(min(ListaNomes))"
      ],
      "metadata": {
        "colab": {
          "base_uri": "https://localhost:8080/"
        },
        "id": "FSqkO2w_FRlU",
        "outputId": "55606f90-82be-4f36-c542-0d004b87cb82"
      },
      "execution_count": 78,
      "outputs": [
        {
          "output_type": "stream",
          "name": "stdout",
          "text": [
            "['1', '2', '3', '4', '5', '6']\n",
            "['Caio', 'Alex', 'Renata', 'Patrícia', 'Bruno']\n",
            "6\n",
            "1\n",
            "Renata\n",
            "Alex\n"
          ]
        }
      ]
    },
    {
      "cell_type": "markdown",
      "source": [
        ""
      ],
      "metadata": {
        "id": "F1toTPEyt96Y"
      }
    }
  ],
  "metadata": {
    "colab": {
      "name": "Untitled0.ipynb",
      "provenance": [],
      "authorship_tag": "ABX9TyOkAiKnHfb5YQFDCr0sLmny",
      "include_colab_link": true
    },
    "kernelspec": {
      "display_name": "Python 3",
      "name": "python3"
    },
    "language_info": {
      "name": "python"
    }
  },
  "nbformat": 4,
  "nbformat_minor": 0
}